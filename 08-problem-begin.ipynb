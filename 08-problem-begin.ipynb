{
 "cells": [
  {
   "cell_type": "markdown",
   "metadata": {},
   "source": [
    "Write a function `c2f` that takes one parameter which is temperature in C\n",
    "and returns the converted F value using the formula\n",
    "\n",
    "$ F = C \\times 1.8 + 32 $\n",
    "\n",
    "- test this function using 33, try calling it using a positional and a keyword argument\n",
    "- try recreating the same function using a lambda expression"
   ]
  },
  {
   "cell_type": "code",
   "execution_count": null,
   "metadata": {},
   "outputs": [],
   "source": []
  }
 ],
 "metadata": {
  "kernelspec": {
   "display_name": "Python 3.8.2 64-bit",
   "language": "python",
   "name": "python38264bit85c3171a43344ec5b43f57c11b8f918c"
  },
  "language_info": {
   "codemirror_mode": {
    "name": "ipython",
    "version": 3
   },
   "file_extension": ".py",
   "mimetype": "text/x-python",
   "name": "python",
   "nbconvert_exporter": "python",
   "pygments_lexer": "ipython3",
   "version": "3.8.2"
  }
 },
 "nbformat": 4,
 "nbformat_minor": 4
}
